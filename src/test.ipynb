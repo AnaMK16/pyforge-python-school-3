{
 "cells": [
  {
   "cell_type": "code",
   "execution_count": 20,
   "metadata": {},
   "outputs": [
    {
     "name": "stdout",
     "output_type": "stream",
     "text": [
      "['c1ccccc1', 'CC(=O)Oc1ccccc1C(=O)O']\n"
     ]
    }
   ],
   "source": [
    "\n",
    "from rdkit import Chem\n",
    "from rdkit.Chem import Draw\n",
    "\n",
    "def substructure_search(mols, mol):\n",
    "    \"\"\"\n",
    "    Find molecules that contain a specific substructure.\n",
    "\n",
    "    Args:\n",
    "        mols (list of str): List of molecules as SMILES strings.\n",
    "        mol (str): Substructure as a SMILES string.\n",
    "\n",
    "    Returns:\n",
    "        list of str: List of molecules that contain the substructure.\n",
    "    \"\"\"\n",
    "    \n",
    "    substructure = Chem.MolFromSmiles(mol)\n",
    "  \n",
    "    matched_molecules = []\n",
    "\n",
    "    for smiles in mols:\n",
    "        molecule = Chem.MolFromSmiles(smiles)\n",
    "        if molecule.HasSubstructMatch(substructure):\n",
    "            matched_molecules.append(smiles)\n",
    "    \n",
    "    return matched_molecules\n",
    "\n",
    "\n",
    "print(substructure_search([\"CCO\", \"c1ccccc1\", \"CC(=O)O\", \"CC(=O)Oc1ccccc1C(=O)O\"], \"c1ccccc1\"))\n"
   ]
  }
 ],
 "metadata": {
  "kernelspec": {
   "display_name": "Python 3.12.4 ('my-rdkit-env')",
   "language": "python",
   "name": "python3"
  },
  "language_info": {
   "codemirror_mode": {
    "name": "ipython",
    "version": 3
   },
   "file_extension": ".py",
   "mimetype": "text/x-python",
   "name": "python",
   "nbconvert_exporter": "python",
   "pygments_lexer": "ipython3",
   "version": "3.12.4"
  },
  "orig_nbformat": 4,
  "vscode": {
   "interpreter": {
    "hash": "2275adf07a492984fbcdce5f08a59e869538fa7ae48d7532fdf35ef049ce0d14"
   }
  }
 },
 "nbformat": 4,
 "nbformat_minor": 2
}
